{
  "nbformat": 4,
  "nbformat_minor": 0,
  "metadata": {
    "colab": {
      "provenance": [],
      "authorship_tag": "ABX9TyPkidizRV/h10NmDa7LnX3w",
      "include_colab_link": true
    },
    "kernelspec": {
      "name": "python3",
      "display_name": "Python 3"
    },
    "language_info": {
      "name": "python"
    }
  },
  "cells": [
    {
      "cell_type": "markdown",
      "metadata": {
        "id": "view-in-github",
        "colab_type": "text"
      },
      "source": [
        "<a href=\"https://colab.research.google.com/github/nagaforjesus/python-projects/blob/main/project-1.ipynb\" target=\"_parent\"><img src=\"https://colab.research.google.com/assets/colab-badge.svg\" alt=\"Open In Colab\"/></a>"
      ]
    },
    {
      "cell_type": "code",
      "execution_count": null,
      "metadata": {
        "id": "BUt3h07S0uIZ"
      },
      "outputs": [],
      "source": []
    },
    {
      "cell_type": "markdown",
      "source": [
        "1.  Write a python code to check if a given year is a leap year.\n"
      ],
      "metadata": {
        "id": "HiK9fdEx0uxz"
      }
    },
    {
      "cell_type": "code",
      "source": [
        "def is_leap_year(year):\n",
        "    if (year % 4 == 0 and year % 100 != 0) or (year % 400 == 0):\n",
        "        return True\n",
        "    else:\n",
        "        return False\n",
        "\n",
        "\n",
        "year = int(input(\"Enter a year: \"))\n",
        "\n",
        "if is_leap_year(year):\n",
        "    print(f\"{year} is a leap year.\")\n",
        "else:\n",
        "    print(f\"{year} is not a leap year.\")\n",
        "#2023 is not a leap year beacause Is divisible by 4 and Is divisible by 100 but not divisible by 400.\n"
      ],
      "metadata": {
        "colab": {
          "base_uri": "https://localhost:8080/"
        },
        "id": "zGvPxm_z0zeP",
        "outputId": "0b71bad2-cf84-4932-c3fc-6e5d5884016d"
      },
      "execution_count": null,
      "outputs": [
        {
          "output_type": "stream",
          "name": "stdout",
          "text": [
            "Enter a year: 2023\n",
            "2023 is not a leap year.\n"
          ]
        }
      ]
    },
    {
      "cell_type": "markdown",
      "source": [
        "2. Using a for loop write python code to print the pattern below.(Hint: The\n",
        "code should work for any number of rows)"
      ],
      "metadata": {
        "id": "zcDz_W9m6Mty"
      }
    },
    {
      "cell_type": "code",
      "source": [
        "num_rows = 4\n",
        "#Printed the first line to form the first 4 rows\n",
        "for i in range(1, num_rows + 1):\n",
        "    for j in range(1, i + 1):\n",
        "        print(j, end=\" \")\n",
        "    print()\n",
        "#Printed the lower line to form the last three rows\n",
        "for i in range(num_rows - 1, 0, -1):\n",
        "    for j in range(1, i + 1):\n",
        "        print(j, end=\" \")\n",
        "    print()\n",
        "\n"
      ],
      "metadata": {
        "colab": {
          "base_uri": "https://localhost:8080/"
        },
        "id": "ewx3ujiK1JPZ",
        "outputId": "ee362afd-3ae7-4de2-90f9-af130af39b72"
      },
      "execution_count": null,
      "outputs": [
        {
          "output_type": "stream",
          "name": "stdout",
          "text": [
            "1 \n",
            "1 2 \n",
            "1 2 3 \n",
            "1 2 3 4 \n",
            "1 2 3 \n",
            "1 2 \n",
            "1 \n"
          ]
        }
      ]
    },
    {
      "cell_type": "markdown",
      "source": [
        "3.For the string, \"DCS650isawesome\", use a while loop to print all letters\n",
        "expect s, a, and e. (Hint: Use the continue statement.)"
      ],
      "metadata": {
        "id": "MrUF6PyqCo1L"
      }
    },
    {
      "cell_type": "code",
      "source": [
        "\n",
        "string = \"DCS650isawesome\"\n",
        "\n",
        "# Initialize index to keep track of the current position in the string\n",
        "index = 0\n",
        "\n",
        "# Start a while loop that continues as long as the index is within the bounds of the string\n",
        "while index < len(string):\n",
        "    # Get the current letter at the current index\n",
        "    letter = string[index]\n",
        "\n",
        "    # Check if the current letter is 's', 'a', or 'e'\n",
        "    if letter in ['s', 'a', 'e']:\n",
        "        # If it is, skip to the next iteration of the loop\n",
        "        index += 1\n",
        "        continue\n",
        "\n",
        "    # If the current letter is not 's', 'a', or 'e', print it\n",
        "    print(letter)\n",
        "\n",
        "\n",
        "    index += 1\n"
      ],
      "metadata": {
        "colab": {
          "base_uri": "https://localhost:8080/"
        },
        "id": "7g-aK3T-C9f-",
        "outputId": "4656fbfe-d7ec-461e-e15c-81f143185167"
      },
      "execution_count": null,
      "outputs": [
        {
          "output_type": "stream",
          "name": "stdout",
          "text": [
            "D\n",
            "C\n",
            "S\n",
            "6\n",
            "5\n",
            "0\n",
            "i\n",
            "w\n",
            "o\n",
            "m\n"
          ]
        }
      ]
    },
    {
      "cell_type": "markdown",
      "source": [
        "4. For the string, \"DCS650isawesome\", use a while loop to print all letters\n",
        "before the first a. (Hint: Use the break statement.\n"
      ],
      "metadata": {
        "id": "hOdTETVKOgnl"
      }
    },
    {
      "cell_type": "code",
      "source": [
        "#input string\n",
        "string = \"DCS650isawesome\"\n",
        "\n",
        "# Initialize the index variable to keep track of the current position in the string\n",
        "index = 0\n",
        "\n",
        "# Start a while loop that will iterate until the index is less than the length of the string\n",
        "while index < len(string):\n",
        "    # Check if the current character at the current index is 'a'\n",
        "    if string[index] == 'a':\n",
        "        # If 'a' is found, exit the loop using the break statement\n",
        "        break\n",
        "\n",
        "    # Print the current character as it is before 'a' is encountered\n",
        "    print(string[index])\n",
        "\n",
        "\n",
        "    index += 1\n"
      ],
      "metadata": {
        "colab": {
          "base_uri": "https://localhost:8080/"
        },
        "id": "1awC8OFZOtp9",
        "outputId": "62ba945a-97db-4fc5-b67f-15846c82137f"
      },
      "execution_count": null,
      "outputs": [
        {
          "output_type": "stream",
          "name": "stdout",
          "text": [
            "D\n",
            "C\n",
            "S\n",
            "6\n",
            "5\n",
            "0\n",
            "i\n",
            "s\n"
          ]
        }
      ]
    },
    {
      "cell_type": "markdown",
      "source": [
        "5. . There is a student who has an academic scholarship. If he fails a class,\n",
        "he loses the scholarship. Write a python program which stops the\n",
        "scholarship once a grade is an F. Use this list, grades = [93, 95, 84, 100,\n",
        "65, 53, 100, 92]. Using the letter grade scheme listed in the syllabus,\n",
        "create this program. Have your program print, \"Scholarship is stopped\""
      ],
      "metadata": {
        "id": "BYkyyZnNPS-l"
      }
    },
    {
      "cell_type": "code",
      "source": [
        "# List of grades\n",
        "grades = [93, 95, 84, 100, 65, 53, 100, 92]\n",
        "\n",
        "# Letter grade scheme\n",
        "def get_letter_grade(score):\n",
        "    if score >= 90:\n",
        "        return 'A'\n",
        "    if score >= 80:\n",
        "        return 'B'\n",
        "    if score >= 70:\n",
        "        return 'C'\n",
        "    if score >= 60:\n",
        "        return 'D'\n",
        "    else:\n",
        "        return 'F'\n",
        "\n",
        "\n",
        "scholarship_active = True\n",
        "\n",
        "\n",
        "for grade in grades:\n",
        "    letter_grade = get_letter_grade(grade)\n",
        "    print(f\"Score: {grade}, Letter Grade: {letter_grade}\")\n",
        "\n",
        "    # Check if the letter grade is 'F'\n",
        "    if letter_grade == 'F':\n",
        "        scholarship_active = False\n",
        "        print(\"Scholarship is stopped\")\n",
        "        break  # Exit the loop\n",
        "\n",
        "# Print final scholarship status\n",
        "if scholarship_active:\n",
        "    print(\"Scholarship is still active\")\n"
      ],
      "metadata": {
        "colab": {
          "base_uri": "https://localhost:8080/"
        },
        "id": "N4ynAqSbP1cM",
        "outputId": "494bce56-4b2a-46f0-904a-0974be4f6a3b"
      },
      "execution_count": null,
      "outputs": [
        {
          "output_type": "stream",
          "name": "stdout",
          "text": [
            "Score: 93, Letter Grade: A\n",
            "Score: 95, Letter Grade: A\n",
            "Score: 84, Letter Grade: B\n",
            "Score: 100, Letter Grade: A\n",
            "Score: 65, Letter Grade: D\n",
            "Score: 53, Letter Grade: F\n",
            "Scholarship is stopped\n"
          ]
        }
      ]
    },
    {
      "cell_type": "code",
      "source": [
        "from google.colab import drive\n",
        "drive.mount('/content/drive')"
      ],
      "metadata": {
        "colab": {
          "base_uri": "https://localhost:8080/",
          "height": 356
        },
        "id": "B-8GuVUMS5nl",
        "outputId": "6c2493b6-30b1-45ff-90a7-79ea8e6e7961"
      },
      "execution_count": null,
      "outputs": [
        {
          "output_type": "error",
          "ename": "MessageError",
          "evalue": "ignored",
          "traceback": [
            "\u001b[0;31m---------------------------------------------------------------------------\u001b[0m",
            "\u001b[0;31mMessageError\u001b[0m                              Traceback (most recent call last)",
            "\u001b[0;32m<ipython-input-19-d5df0069828e>\u001b[0m in \u001b[0;36m<cell line: 2>\u001b[0;34m()\u001b[0m\n\u001b[1;32m      1\u001b[0m \u001b[0;32mfrom\u001b[0m \u001b[0mgoogle\u001b[0m\u001b[0;34m.\u001b[0m\u001b[0mcolab\u001b[0m \u001b[0;32mimport\u001b[0m \u001b[0mdrive\u001b[0m\u001b[0;34m\u001b[0m\u001b[0;34m\u001b[0m\u001b[0m\n\u001b[0;32m----> 2\u001b[0;31m \u001b[0mdrive\u001b[0m\u001b[0;34m.\u001b[0m\u001b[0mmount\u001b[0m\u001b[0;34m(\u001b[0m\u001b[0;34m'/content/drive'\u001b[0m\u001b[0;34m)\u001b[0m\u001b[0;34m\u001b[0m\u001b[0;34m\u001b[0m\u001b[0m\n\u001b[0m",
            "\u001b[0;32m/usr/local/lib/python3.10/dist-packages/google/colab/drive.py\u001b[0m in \u001b[0;36mmount\u001b[0;34m(mountpoint, force_remount, timeout_ms, readonly)\u001b[0m\n\u001b[1;32m    101\u001b[0m \u001b[0;32mdef\u001b[0m \u001b[0mmount\u001b[0m\u001b[0;34m(\u001b[0m\u001b[0mmountpoint\u001b[0m\u001b[0;34m,\u001b[0m \u001b[0mforce_remount\u001b[0m\u001b[0;34m=\u001b[0m\u001b[0;32mFalse\u001b[0m\u001b[0;34m,\u001b[0m \u001b[0mtimeout_ms\u001b[0m\u001b[0;34m=\u001b[0m\u001b[0;36m120000\u001b[0m\u001b[0;34m,\u001b[0m \u001b[0mreadonly\u001b[0m\u001b[0;34m=\u001b[0m\u001b[0;32mFalse\u001b[0m\u001b[0;34m)\u001b[0m\u001b[0;34m:\u001b[0m\u001b[0;34m\u001b[0m\u001b[0;34m\u001b[0m\u001b[0m\n\u001b[1;32m    102\u001b[0m   \u001b[0;34m\"\"\"Mount your Google Drive at the specified mountpoint path.\"\"\"\u001b[0m\u001b[0;34m\u001b[0m\u001b[0;34m\u001b[0m\u001b[0m\n\u001b[0;32m--> 103\u001b[0;31m   return _mount(\n\u001b[0m\u001b[1;32m    104\u001b[0m       \u001b[0mmountpoint\u001b[0m\u001b[0;34m,\u001b[0m\u001b[0;34m\u001b[0m\u001b[0;34m\u001b[0m\u001b[0m\n\u001b[1;32m    105\u001b[0m       \u001b[0mforce_remount\u001b[0m\u001b[0;34m=\u001b[0m\u001b[0mforce_remount\u001b[0m\u001b[0;34m,\u001b[0m\u001b[0;34m\u001b[0m\u001b[0;34m\u001b[0m\u001b[0m\n",
            "\u001b[0;32m/usr/local/lib/python3.10/dist-packages/google/colab/drive.py\u001b[0m in \u001b[0;36m_mount\u001b[0;34m(mountpoint, force_remount, timeout_ms, ephemeral, readonly)\u001b[0m\n\u001b[1;32m    130\u001b[0m   )\n\u001b[1;32m    131\u001b[0m   \u001b[0;32mif\u001b[0m \u001b[0mephemeral\u001b[0m\u001b[0;34m:\u001b[0m\u001b[0;34m\u001b[0m\u001b[0;34m\u001b[0m\u001b[0m\n\u001b[0;32m--> 132\u001b[0;31m     _message.blocking_request(\n\u001b[0m\u001b[1;32m    133\u001b[0m         \u001b[0;34m'request_auth'\u001b[0m\u001b[0;34m,\u001b[0m \u001b[0mrequest\u001b[0m\u001b[0;34m=\u001b[0m\u001b[0;34m{\u001b[0m\u001b[0;34m'authType'\u001b[0m\u001b[0;34m:\u001b[0m \u001b[0;34m'dfs_ephemeral'\u001b[0m\u001b[0;34m}\u001b[0m\u001b[0;34m,\u001b[0m \u001b[0mtimeout_sec\u001b[0m\u001b[0;34m=\u001b[0m\u001b[0;32mNone\u001b[0m\u001b[0;34m\u001b[0m\u001b[0;34m\u001b[0m\u001b[0m\n\u001b[1;32m    134\u001b[0m     )\n",
            "\u001b[0;32m/usr/local/lib/python3.10/dist-packages/google/colab/_message.py\u001b[0m in \u001b[0;36mblocking_request\u001b[0;34m(request_type, request, timeout_sec, parent)\u001b[0m\n\u001b[1;32m    174\u001b[0m       \u001b[0mrequest_type\u001b[0m\u001b[0;34m,\u001b[0m \u001b[0mrequest\u001b[0m\u001b[0;34m,\u001b[0m \u001b[0mparent\u001b[0m\u001b[0;34m=\u001b[0m\u001b[0mparent\u001b[0m\u001b[0;34m,\u001b[0m \u001b[0mexpect_reply\u001b[0m\u001b[0;34m=\u001b[0m\u001b[0;32mTrue\u001b[0m\u001b[0;34m\u001b[0m\u001b[0;34m\u001b[0m\u001b[0m\n\u001b[1;32m    175\u001b[0m   )\n\u001b[0;32m--> 176\u001b[0;31m   \u001b[0;32mreturn\u001b[0m \u001b[0mread_reply_from_input\u001b[0m\u001b[0;34m(\u001b[0m\u001b[0mrequest_id\u001b[0m\u001b[0;34m,\u001b[0m \u001b[0mtimeout_sec\u001b[0m\u001b[0;34m)\u001b[0m\u001b[0;34m\u001b[0m\u001b[0;34m\u001b[0m\u001b[0m\n\u001b[0m",
            "\u001b[0;32m/usr/local/lib/python3.10/dist-packages/google/colab/_message.py\u001b[0m in \u001b[0;36mread_reply_from_input\u001b[0;34m(message_id, timeout_sec)\u001b[0m\n\u001b[1;32m    101\u001b[0m     ):\n\u001b[1;32m    102\u001b[0m       \u001b[0;32mif\u001b[0m \u001b[0;34m'error'\u001b[0m \u001b[0;32min\u001b[0m \u001b[0mreply\u001b[0m\u001b[0;34m:\u001b[0m\u001b[0;34m\u001b[0m\u001b[0;34m\u001b[0m\u001b[0m\n\u001b[0;32m--> 103\u001b[0;31m         \u001b[0;32mraise\u001b[0m \u001b[0mMessageError\u001b[0m\u001b[0;34m(\u001b[0m\u001b[0mreply\u001b[0m\u001b[0;34m[\u001b[0m\u001b[0;34m'error'\u001b[0m\u001b[0;34m]\u001b[0m\u001b[0;34m)\u001b[0m\u001b[0;34m\u001b[0m\u001b[0;34m\u001b[0m\u001b[0m\n\u001b[0m\u001b[1;32m    104\u001b[0m       \u001b[0;32mreturn\u001b[0m \u001b[0mreply\u001b[0m\u001b[0;34m.\u001b[0m\u001b[0mget\u001b[0m\u001b[0;34m(\u001b[0m\u001b[0;34m'data'\u001b[0m\u001b[0;34m,\u001b[0m \u001b[0;32mNone\u001b[0m\u001b[0;34m)\u001b[0m\u001b[0;34m\u001b[0m\u001b[0;34m\u001b[0m\u001b[0m\n\u001b[1;32m    105\u001b[0m \u001b[0;34m\u001b[0m\u001b[0m\n",
            "\u001b[0;31mMessageError\u001b[0m: Error: credential propagation was unsuccessful"
          ]
        }
      ]
    },
    {
      "cell_type": "code",
      "source": [
        "from google.colab import drive"
      ],
      "metadata": {
        "id": "qACNUYN0Nah8"
      },
      "execution_count": null,
      "outputs": []
    },
    {
      "cell_type": "code",
      "source": [
        "for l in 'Jhon':\n",
        "    if l != 'o':\n",
        "       continue\n",
        "    print(l, end=\", \")\n",
        "\n"
      ],
      "metadata": {
        "id": "foywcR6LQg50",
        "colab": {
          "base_uri": "https://localhost:8080/"
        },
        "outputId": "52f2d95c-3734-4228-d49f-788ba4cc74ac"
      },
      "execution_count": null,
      "outputs": [
        {
          "output_type": "stream",
          "name": "stdout",
          "text": [
            "o, "
          ]
        }
      ]
    }
  ]
}