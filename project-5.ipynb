{
  "nbformat": 4,
  "nbformat_minor": 0,
  "metadata": {
    "colab": {
      "provenance": [],
      "include_colab_link": true
    },
    "kernelspec": {
      "name": "python3",
      "display_name": "Python 3"
    },
    "language_info": {
      "name": "python"
    }
  },
  "cells": [
    {
      "cell_type": "markdown",
      "metadata": {
        "id": "view-in-github",
        "colab_type": "text"
      },
      "source": [
        "<a href=\"https://colab.research.google.com/github/nagaforjesus/python-projects/blob/main/project-5.ipynb\" target=\"_parent\"><img src=\"https://colab.research.google.com/assets/colab-badge.svg\" alt=\"Open In Colab\"/></a>"
      ]
    },
    {
      "cell_type": "code",
      "execution_count": null,
      "metadata": {
        "id": "xUv6ypS_uLDn"
      },
      "outputs": [],
      "source": [
        "1."
      ]
    },
    {
      "cell_type": "code",
      "source": [
        "def factorial (n): #Define the factorial function\n",
        "    if n == 0:\n",
        "        return 1    #the exit condition\n",
        "    else:\n",
        "        return n * factorial(n - 1) #This is recursive case\n",
        "\n",
        "\n",
        "num = int(input(\"Enter a number: \")) #input the factorial number to be checked.\n",
        "result = factorial(num)\n",
        "print(f\" the factorial of {num} is {result}\")"
      ],
      "metadata": {
        "colab": {
          "base_uri": "https://localhost:8080/"
        },
        "id": "Hwk40-VlaQfJ",
        "outputId": "1344ada3-eeaf-4e5e-c703-a38cec224ab1"
      },
      "execution_count": null,
      "outputs": [
        {
          "output_type": "stream",
          "name": "stdout",
          "text": [
            "Enter a number: 5\n",
            " the factorial of 5 is 120\n"
          ]
        }
      ]
    },
    {
      "cell_type": "markdown",
      "source": [
        "2a."
      ],
      "metadata": {
        "id": "jRdj7XPwaPsF"
      }
    },
    {
      "cell_type": "code",
      "source": [
        "def calculate_y(m, x, b):\n",
        "    if b == 0:\n",
        "        raise ValueError(\"Cannot divide by zero (b cannot be 0)\")\n",
        "    y = ((m * x) + b) / b\n",
        "    return y"
      ],
      "metadata": {
        "id": "WLxiEobQrW-B"
      },
      "execution_count": null,
      "outputs": []
    },
    {
      "cell_type": "code",
      "source": [
        "m = float(input(\"Enter the value of m: \"))"
      ],
      "metadata": {
        "colab": {
          "base_uri": "https://localhost:8080/"
        },
        "id": "XSAg4wIHr6xA",
        "outputId": "b37dd23c-e6a0-4ebe-b67e-9905ee393e86"
      },
      "execution_count": null,
      "outputs": [
        {
          "name": "stdout",
          "output_type": "stream",
          "text": [
            "Enter the value of m: 0\n"
          ]
        }
      ]
    },
    {
      "cell_type": "code",
      "source": [
        "x = float(input(\"Enter the value of x: \"))"
      ],
      "metadata": {
        "colab": {
          "base_uri": "https://localhost:8080/"
        },
        "id": "NoBpgtT8sH_n",
        "outputId": "abf215d3-82b5-4886-ca4f-135531d14554"
      },
      "execution_count": null,
      "outputs": [
        {
          "name": "stdout",
          "output_type": "stream",
          "text": [
            "Enter the value of x: 3\n"
          ]
        }
      ]
    },
    {
      "cell_type": "code",
      "source": [
        "b = float(input(\"Enter the value of b: \"))"
      ],
      "metadata": {
        "colab": {
          "base_uri": "https://localhost:8080/"
        },
        "id": "4CIuHcKZsW4V",
        "outputId": "3e6c54ec-70f2-4b11-f751-7d14f4e7d270"
      },
      "execution_count": null,
      "outputs": [
        {
          "name": "stdout",
          "output_type": "stream",
          "text": [
            "Enter the value of b: 0\n"
          ]
        }
      ]
    },
    {
      "cell_type": "code",
      "source": [
        "try:\n",
        "    result = calculate_y(m, x, b)\n",
        "    print(f\"Result of the function: {result}\")\n",
        "except ValueError as e:\n",
        "    print(e)"
      ],
      "metadata": {
        "colab": {
          "base_uri": "https://localhost:8080/"
        },
        "id": "oWljuOqbsvdG",
        "outputId": "d5398085-cd25-4c73-955c-b02f64beb879"
      },
      "execution_count": null,
      "outputs": [
        {
          "output_type": "stream",
          "name": "stdout",
          "text": [
            "Cannot divide by zero (b cannot be 0)\n"
          ]
        }
      ]
    },
    {
      "cell_type": "code",
      "source": [],
      "metadata": {
        "id": "oZqyYm9us9qp"
      },
      "execution_count": null,
      "outputs": []
    },
    {
      "cell_type": "markdown",
      "source": [
        "2b."
      ],
      "metadata": {
        "id": "u3NFttQItTcC"
      }
    },
    {
      "cell_type": "code",
      "source": [
        "def calculate_x(m, y, b):\n",
        "    if m == 0:\n",
        "        raise ValueError(\" division by zero error (m cannot be 0)\")\n",
        "    x = (y * b - b) / m\n",
        "    return x"
      ],
      "metadata": {
        "id": "skft5rERtWh_"
      },
      "execution_count": null,
      "outputs": []
    },
    {
      "cell_type": "code",
      "source": [
        "slope = float(input(\"Enter the value of slope (m): \"))"
      ],
      "metadata": {
        "colab": {
          "base_uri": "https://localhost:8080/"
        },
        "id": "O3zWCx_LNPPF",
        "outputId": "d85e7c39-4e2b-4d36-bf73-fbc0fdfbbdfa"
      },
      "execution_count": null,
      "outputs": [
        {
          "name": "stdout",
          "output_type": "stream",
          "text": [
            "Enter the value of slope (m): 6\n"
          ]
        }
      ]
    },
    {
      "cell_type": "code",
      "source": [
        "target_y = float(input(\"Enter the value of y: \"))"
      ],
      "metadata": {
        "colab": {
          "base_uri": "https://localhost:8080/"
        },
        "id": "1vjzAqTCNXs-",
        "outputId": "b3d1119a-bca6-4e2b-be75-1636cf422043"
      },
      "execution_count": null,
      "outputs": [
        {
          "name": "stdout",
          "output_type": "stream",
          "text": [
            "Enter the value of y: 12\n"
          ]
        }
      ]
    },
    {
      "cell_type": "code",
      "source": [
        "x_intercept = float(input(\"Enter the value of x-intercept (b): \"))\n"
      ],
      "metadata": {
        "colab": {
          "base_uri": "https://localhost:8080/"
        },
        "id": "w7wFups8Nj9R",
        "outputId": "0bca564f-efbc-48cb-c25a-7d96b69f5831"
      },
      "execution_count": null,
      "outputs": [
        {
          "name": "stdout",
          "output_type": "stream",
          "text": [
            "Enter the value of x-intercept (b): 18\n"
          ]
        }
      ]
    },
    {
      "cell_type": "code",
      "source": [
        "try:\n",
        "    calculated_x = calculate_x(slope, target_y, x_intercept)\n",
        "    print(f\"The calculated value of x: {calculated_x}\")\n",
        "except ValueError as e:\n",
        "    print(e)"
      ],
      "metadata": {
        "colab": {
          "base_uri": "https://localhost:8080/"
        },
        "id": "TXIpsWCANq1z",
        "outputId": "a4669349-6f3b-4aae-fc15-d31c37489901"
      },
      "execution_count": null,
      "outputs": [
        {
          "output_type": "stream",
          "name": "stdout",
          "text": [
            "The calculated value of x: 33.0\n"
          ]
        }
      ]
    },
    {
      "cell_type": "markdown",
      "source": [
        "2c."
      ],
      "metadata": {
        "id": "_ZuVa9-iR4eo"
      }
    },
    {
      "cell_type": "code",
      "source": [
        "def calculate_x(y, slope, y_intercept):\n",
        "    if slope == 0:\n",
        "        print(\"Error: The slope cannot be 0.\")\n",
        "        return None\n",
        "\n",
        "    x = (y - y_intercept) / slope\n",
        "    return x\n",
        "\n",
        "y_value = 10\n",
        "slope = -2\n",
        "y_intercept = 4\n",
        "\n",
        "result = calculate_x(y_value, slope, y_intercept)\n",
        "\n",
        "if result is not None:\n",
        "    print(f\"The value of x for y = {y_value}, slope = {slope}, and y-intercept = {y_intercept} is {result}\")\n",
        "\n"
      ],
      "metadata": {
        "colab": {
          "base_uri": "https://localhost:8080/"
        },
        "id": "FYkLhIkjR6u_",
        "outputId": "cb4aa08b-c4fb-4b53-f711-dfde6dda8ade"
      },
      "execution_count": null,
      "outputs": [
        {
          "output_type": "stream",
          "name": "stdout",
          "text": [
            "The value of x for y = 10, slope = -2, and y-intercept = 4 is -3.0\n"
          ]
        }
      ]
    },
    {
      "cell_type": "code",
      "source": [],
      "metadata": {
        "id": "mbnUPQaKU96F"
      },
      "execution_count": null,
      "outputs": []
    },
    {
      "cell_type": "markdown",
      "source": [],
      "metadata": {
        "id": "Yk5bSGJVXlLv"
      }
    },
    {
      "cell_type": "markdown",
      "source": [
        "3d."
      ],
      "metadata": {
        "id": "5AaQYVFCjDl1"
      }
    },
    {
      "cell_type": "code",
      "source": [
        "# Define the Personal class\n",
        "class Personal:\n",
        "    # I Construct method to initialize the attributes\n",
        "    def __init__(self, name, age, company):\n",
        "        self.name = name\n",
        "        self.age = age\n",
        "        self.company = company\n",
        "\n",
        "    #  I Customed string representation for printing the object\n",
        "    def __str__(self):\n",
        "        return f\"My name is {self.name} and I am {self.age} years old i work for {self.company}.\"\n",
        "\n",
        "#  I Created an instance of the Personal class with the provided information\n",
        "person = Personal(\"John\", 30, \"Qorvo\")\n"
      ],
      "metadata": {
        "id": "IXA7loDhjFoN"
      },
      "execution_count": null,
      "outputs": []
    },
    {
      "cell_type": "code",
      "source": [
        "print(person)"
      ],
      "metadata": {
        "colab": {
          "base_uri": "https://localhost:8080/"
        },
        "id": "O4v8PPiji_g2",
        "outputId": "72375abb-ec19-484a-843a-e5729a74690a"
      },
      "execution_count": null,
      "outputs": [
        {
          "output_type": "stream",
          "name": "stdout",
          "text": [
            "My name is John and I am 30 years old i work for Qorvo.\n"
          ]
        }
      ]
    },
    {
      "cell_type": "markdown",
      "source": [
        "3e."
      ],
      "metadata": {
        "id": "6e4I25o5jYIu"
      }
    },
    {
      "cell_type": "code",
      "source": [
        "# Defined the Dog class\n",
        "class Dog:\n",
        "    # Constructor to initialize attributes breed and color\n",
        "    def __init__(self, breed, color):\n",
        "        self.breed = breed\n",
        "        self.color = color\n",
        "\n",
        "    #used method to display dog details\n",
        "    def details(self, name):\n",
        "        print(f\"{name} is a dog\")\n",
        "        print(f\"Breed: {self.breed}\")\n",
        "        print(f\"Color: {self.color}\")\n",
        "\n",
        "# Created instances of the Dog class\n",
        "rodger = Dog(\"Pug\", \"brown\")\n",
        "buzo = Dog(\"Bulldog\", \"black\")\n"
      ],
      "metadata": {
        "id": "j33zRSUojaEG"
      },
      "execution_count": null,
      "outputs": []
    },
    {
      "cell_type": "markdown",
      "source": [],
      "metadata": {
        "id": "4wY-8yO3jAaV"
      }
    },
    {
      "cell_type": "code",
      "source": [
        "rodger.details(\"Rodger\")\n",
        "print()\n"
      ],
      "metadata": {
        "colab": {
          "base_uri": "https://localhost:8080/"
        },
        "id": "5uei7n5gp-yF",
        "outputId": "cea6c852-136a-4d6e-ad46-975d90dfe114"
      },
      "execution_count": null,
      "outputs": [
        {
          "output_type": "stream",
          "name": "stdout",
          "text": [
            "Rodger is a dog\n",
            "Breed: Pug\n",
            "Color: brown\n",
            "\n"
          ]
        }
      ]
    },
    {
      "cell_type": "code",
      "source": [
        "buzo.details(\"Buzo\")\n",
        "print()\n"
      ],
      "metadata": {
        "colab": {
          "base_uri": "https://localhost:8080/"
        },
        "id": "alfx9GhWp6tT",
        "outputId": "6845ac36-2297-4255-e09b-5f25a1c7a7e8"
      },
      "execution_count": null,
      "outputs": [
        {
          "output_type": "stream",
          "name": "stdout",
          "text": [
            "Buzo is a dog\n",
            "Breed: Bulldog\n",
            "Color: black\n",
            "\n"
          ]
        }
      ]
    }
  ]
}