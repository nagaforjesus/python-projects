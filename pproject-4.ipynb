{
  "nbformat": 4,
  "nbformat_minor": 0,
  "metadata": {
    "colab": {
      "provenance": [],
      "mount_file_id": "1awuRYxAZ-WprHZzoPObkAeYp3iOCFQHS",
      "authorship_tag": "ABX9TyNYMCm4NScEg7Jyfqhe4PXd",
      "include_colab_link": true
    },
    "kernelspec": {
      "name": "python3",
      "display_name": "Python 3"
    },
    "language_info": {
      "name": "python"
    }
  },
  "cells": [
    {
      "cell_type": "markdown",
      "metadata": {
        "id": "view-in-github",
        "colab_type": "text"
      },
      "source": [
        "<a href=\"https://colab.research.google.com/github/nagaforjesus/python-projects/blob/main/pproject-4.ipynb\" target=\"_parent\"><img src=\"https://colab.research.google.com/assets/colab-badge.svg\" alt=\"Open In Colab\"/></a>"
      ]
    },
    {
      "cell_type": "markdown",
      "source": [
        "3.)Download the weather.csv (file size: 29462KB) file from kaggle site into your\n",
        "google drive"
      ],
      "metadata": {
        "id": "B_kpstr7s7PP"
      }
    },
    {
      "cell_type": "markdown",
      "source": [
        "I downloaded the file from kaggle site and i uploaded the weather.csv file to my google colabs"
      ],
      "metadata": {
        "id": "cjtalWn9tEqI"
      }
    },
    {
      "cell_type": "markdown",
      "source": [
        "4.)Import the .csv file and the read it from the pandas library"
      ],
      "metadata": {
        "id": "A9DLK5SKtSQK"
      }
    },
    {
      "cell_type": "code",
      "source": [
        "import pandas as pd\n",
        "# I imported pandas as pd and read the file in the file path i uploaded it.\n",
        "file_path = '/content/drive/MyDrive/Colab Notebooks/weather.csv'\n",
        "df = pd.read_csv(file_path)"
      ],
      "metadata": {
        "id": "rUUS7JgCvQyL"
      },
      "execution_count": null,
      "outputs": []
    },
    {
      "cell_type": "markdown",
      "source": [
        "5.) Display the first five and last ten rows of the dataframe."
      ],
      "metadata": {
        "id": "QEl-BQPTvdVI"
      }
    },
    {
      "cell_type": "code",
      "source": [
        "import pandas as pd\n",
        "\n",
        "df = pd.read_csv(file_path)\n",
        "\n",
        "first_five_rows = df.head(5) #from the file weather.csv i am reading the first five rows which is displayed as the head\n",
        "print(first_five_rows)"
      ],
      "metadata": {
        "colab": {
          "base_uri": "https://localhost:8080/"
        },
        "id": "Dc53kz1hwNjk",
        "outputId": "ff6e4249-b6ff-4ca4-909b-3aa87b03f576"
      },
      "execution_count": null,
      "outputs": [
        {
          "output_type": "stream",
          "name": "stdout",
          "text": [
            "   MinTemp  MaxTemp  Rainfall  Evaporation  Sunshine WindGustDir  \\\n",
            "0      8.0     24.3       0.0          3.4       6.3          NW   \n",
            "1     14.0     26.9       3.6          4.4       9.7         ENE   \n",
            "2     13.7     23.4       3.6          5.8       3.3          NW   \n",
            "3     13.3     15.5      39.8          7.2       9.1          NW   \n",
            "4      7.6     16.1       2.8          5.6      10.6         SSE   \n",
            "\n",
            "   WindGustSpeed WindDir9am WindDir3pm  WindSpeed9am  ...  Humidity3pm  \\\n",
            "0           30.0         SW         NW           6.0  ...           29   \n",
            "1           39.0          E          W           4.0  ...           36   \n",
            "2           85.0          N        NNE           6.0  ...           69   \n",
            "3           54.0        WNW          W          30.0  ...           56   \n",
            "4           50.0        SSE        ESE          20.0  ...           49   \n",
            "\n",
            "   Pressure9am  Pressure3pm  Cloud9am  Cloud3pm  Temp9am  Temp3pm  RainToday  \\\n",
            "0       1019.7       1015.0         7         7     14.4     23.6         No   \n",
            "1       1012.4       1008.4         5         3     17.5     25.7        Yes   \n",
            "2       1009.5       1007.2         8         7     15.4     20.2        Yes   \n",
            "3       1005.5       1007.0         2         7     13.5     14.1        Yes   \n",
            "4       1018.3       1018.5         7         7     11.1     15.4        Yes   \n",
            "\n",
            "   RISK_MM RainTomorrow  \n",
            "0      3.6          Yes  \n",
            "1      3.6          Yes  \n",
            "2     39.8          Yes  \n",
            "3      2.8          Yes  \n",
            "4      0.0           No  \n",
            "\n",
            "[5 rows x 22 columns]\n"
          ]
        }
      ]
    },
    {
      "cell_type": "code",
      "execution_count": null,
      "metadata": {
        "colab": {
          "base_uri": "https://localhost:8080/"
        },
        "id": "_kP4AtOKrLe8",
        "outputId": "46b6829d-ac3d-408c-89fc-541f5eb1d03b"
      },
      "outputs": [
        {
          "output_type": "stream",
          "name": "stdout",
          "text": [
            "     MinTemp  MaxTemp  Rainfall  Evaporation  Sunshine WindGustDir  \\\n",
            "356      3.4     15.0       0.8          4.8      11.7           S   \n",
            "357      3.2     18.0       0.0          7.4      12.2         SSE   \n",
            "358      0.9     20.7       0.0          5.4       8.4         NNW   \n",
            "359      3.3     25.5       0.0          5.2      10.8           N   \n",
            "360      7.9     26.1       0.0          6.8       3.5         NNW   \n",
            "361      9.0     30.7       0.0          7.6      12.1         NNW   \n",
            "362      7.1     28.4       0.0         11.6      12.7           N   \n",
            "363     12.5     19.9       0.0          8.4       5.3         ESE   \n",
            "364     12.5     26.9       0.0          5.0       7.1          NW   \n",
            "365     12.3     30.2       0.0          6.0      12.6          NW   \n",
            "\n",
            "     WindGustSpeed WindDir9am WindDir3pm  WindSpeed9am  ...  Humidity3pm  \\\n",
            "356           70.0          S          S          35.0  ...           24   \n",
            "357           48.0        SSE          S          26.0  ...           25   \n",
            "358           39.0        SSE          N           2.0  ...           29   \n",
            "359           43.0          N        NNW           4.0  ...           16   \n",
            "360           43.0        NaN        WNW           0.0  ...           20   \n",
            "361           76.0        SSE         NW           7.0  ...           15   \n",
            "362           48.0        NNW        NNW           2.0  ...           22   \n",
            "363           43.0        ENE        ENE          11.0  ...           47   \n",
            "364           46.0        SSW        WNW           6.0  ...           39   \n",
            "365           78.0         NW        WNW          31.0  ...           13   \n",
            "\n",
            "     Pressure9am  Pressure3pm  Cloud9am  Cloud3pm  Temp9am  Temp3pm  \\\n",
            "356       1023.4       1023.1         1         5      8.3     14.3   \n",
            "357       1026.6       1022.8         1         2      9.1     16.3   \n",
            "358       1023.2       1018.4         3         8      9.4     19.1   \n",
            "359       1018.8       1014.6         0         3     12.0     24.8   \n",
            "360       1017.6       1014.2         5         8     16.3     25.9   \n",
            "361       1016.1       1010.8         1         3     20.4     30.0   \n",
            "362       1020.0       1016.9         0         1     17.2     28.2   \n",
            "363       1024.0       1022.8         3         2     14.5     18.3   \n",
            "364       1021.0       1016.2         6         7     15.8     25.9   \n",
            "365       1009.6       1009.2         1         1     23.8     28.6   \n",
            "\n",
            "     RainToday  RISK_MM RainTomorrow  \n",
            "356         No      0.0           No  \n",
            "357         No      0.0           No  \n",
            "358         No      0.0           No  \n",
            "359         No      0.0           No  \n",
            "360         No      0.0           No  \n",
            "361         No      0.0           No  \n",
            "362         No      0.0           No  \n",
            "363         No      0.0           No  \n",
            "364         No      0.0           No  \n",
            "365         No      0.0           No  \n",
            "\n",
            "[10 rows x 22 columns]\n"
          ]
        }
      ],
      "source": [
        "last_ten_rows = df.tail(10) #im reading the last 10 roles which tail is used to display it.\n",
        "print(last_ten_rows)"
      ]
    },
    {
      "cell_type": "markdown",
      "source": [
        "6.) Extract the column labels of the dataframe and find the dimension of the\n",
        "dataframe."
      ],
      "metadata": {
        "id": "pnybhSoexiex"
      }
    },
    {
      "cell_type": "code",
      "source": [
        "column_labels = df.columns  #i extracted the column lable of the dataframe\n",
        "print(\"Column Labels:\", column_labels)"
      ],
      "metadata": {
        "colab": {
          "base_uri": "https://localhost:8080/"
        },
        "id": "GONFDWkNrNho",
        "outputId": "4514f6ad-3d0b-4306-ad75-cb76b55b89e2"
      },
      "execution_count": null,
      "outputs": [
        {
          "output_type": "stream",
          "name": "stdout",
          "text": [
            "Column Labels: Index(['MinTemp', 'MaxTemp', 'Rainfall', 'Evaporation', 'Sunshine',\n",
            "       'WindGustDir', 'WindGustSpeed', 'WindDir9am', 'WindDir3pm',\n",
            "       'WindSpeed9am', 'WindSpeed3pm', 'Humidity9am', 'Humidity3pm',\n",
            "       'Pressure9am', 'Pressure3pm', 'Cloud9am', 'Cloud3pm', 'Temp9am',\n",
            "       'Temp3pm', 'RainToday', 'RISK_MM', 'RainTomorrow'],\n",
            "      dtype='object')\n"
          ]
        }
      ]
    },
    {
      "cell_type": "code",
      "source": [
        "num_rows, num_columns = df.shape\n",
        "\n",
        "print(\"Number of Rows:\", num_rows) #I use this piece of code to extract the dimension of the dataframe.\n",
        "print(\"Number of Columns:\", num_columns)\n"
      ],
      "metadata": {
        "colab": {
          "base_uri": "https://localhost:8080/"
        },
        "id": "_HT8qAv3y-Mu",
        "outputId": "f04a04bb-e1a5-4557-dabf-18d23c267192"
      },
      "execution_count": null,
      "outputs": [
        {
          "output_type": "stream",
          "name": "stdout",
          "text": [
            "Number of Rows: 366\n",
            "Number of Columns: 22\n"
          ]
        }
      ]
    },
    {
      "cell_type": "markdown",
      "source": [
        "7.). Access the “Humidity9am” and “Humidity3pm” by using methods in python"
      ],
      "metadata": {
        "id": "BVFxZlY0zsHU"
      }
    },
    {
      "cell_type": "code",
      "source": [
        "humidity_9am = df[\"Humidity9am\"]  #In this code df[\"Humidity9am\"] accesses the \"Humidity9am\" column and stores it in the humidity_9am variable.\n",
        "\n",
        "print(humidity_9am)"
      ],
      "metadata": {
        "colab": {
          "base_uri": "https://localhost:8080/"
        },
        "id": "3dnGy9JK0qe4",
        "outputId": "cf4413da-1d7b-4842-e1a9-e0de6df06d4e"
      },
      "execution_count": null,
      "outputs": [
        {
          "output_type": "stream",
          "name": "stdout",
          "text": [
            "0      68\n",
            "1      80\n",
            "2      82\n",
            "3      62\n",
            "4      68\n",
            "       ..\n",
            "361    38\n",
            "362    45\n",
            "363    63\n",
            "364    69\n",
            "365    43\n",
            "Name: Humidity9am, Length: 366, dtype: int64\n"
          ]
        }
      ]
    },
    {
      "cell_type": "code",
      "source": [
        "humidity_3pm = df[\"Humidity3pm\"]  #In this code df[\"Humidity3pm\"] accesses the \"Humidity3pm\" column and stores it in the humidity_3pm variable.\n",
        "\n",
        "print(humidity_3pm)"
      ],
      "metadata": {
        "colab": {
          "base_uri": "https://localhost:8080/"
        },
        "id": "O-W92yBN1OK2",
        "outputId": "fe162c26-1abf-478f-fbd0-07746a4c2714"
      },
      "execution_count": null,
      "outputs": [
        {
          "output_type": "stream",
          "name": "stdout",
          "text": [
            "0      29\n",
            "1      36\n",
            "2      69\n",
            "3      56\n",
            "4      49\n",
            "       ..\n",
            "361    15\n",
            "362    22\n",
            "363    47\n",
            "364    39\n",
            "365    13\n",
            "Name: Humidity3pm, Length: 366, dtype: int64\n"
          ]
        }
      ]
    },
    {
      "cell_type": "markdown",
      "source": [
        "8.) Find the data types of each column in your data frame."
      ],
      "metadata": {
        "id": "2X3UvP1l4bAJ"
      }
    },
    {
      "cell_type": "code",
      "source": [
        "data_types = df.dtypes  # i used the df.dtypes inbuilt functions to know all type of datatypes in my dataframe\n",
        "\n",
        "print(data_types)"
      ],
      "metadata": {
        "colab": {
          "base_uri": "https://localhost:8080/"
        },
        "id": "GzTS0vuU4l3O",
        "outputId": "ac497b4e-60e8-4b43-d4af-8d0339739b62"
      },
      "execution_count": null,
      "outputs": [
        {
          "output_type": "stream",
          "name": "stdout",
          "text": [
            "MinTemp          float64\n",
            "MaxTemp          float64\n",
            "Rainfall         float64\n",
            "Evaporation      float64\n",
            "Sunshine         float64\n",
            "WindGustDir       object\n",
            "WindGustSpeed    float64\n",
            "WindDir9am        object\n",
            "WindDir3pm        object\n",
            "WindSpeed9am     float64\n",
            "WindSpeed3pm       int64\n",
            "Humidity9am        int64\n",
            "Humidity3pm        int64\n",
            "Pressure9am      float64\n",
            "Pressure3pm      float64\n",
            "Cloud9am           int64\n",
            "Cloud3pm           int64\n",
            "Temp9am          float64\n",
            "Temp3pm          float64\n",
            "RainToday         object\n",
            "RISK_MM          float64\n",
            "RainTomorrow      object\n",
            "dtype: object\n"
          ]
        }
      ]
    },
    {
      "cell_type": "markdown",
      "source": [
        "9.)Display a sample size (25%) from the original data frame with weather data"
      ],
      "metadata": {
        "id": "Mz85wRHT6RDw"
      }
    },
    {
      "cell_type": "code",
      "source": [
        "sample_size = int(0.25 * len(df))  # i Calculated 25% of the DataFrame size with the 0.25\n",
        "sample = df.sample(n=sample_size)  # i Use the sample inbuilt method to get a random sample of 25%\n",
        "\n",
        "sample"
      ],
      "metadata": {
        "colab": {
          "base_uri": "https://localhost:8080/",
          "height": 444
        },
        "id": "UGyxfuxW6Xu2",
        "outputId": "1778012e-fcb2-4f7f-cf3c-9089a07dbf79"
      },
      "execution_count": null,
      "outputs": [
        {
          "output_type": "execute_result",
          "data": {
            "text/plain": [
              "     MinTemp  MaxTemp  Rainfall  Evaporation  Sunshine WindGustDir  \\\n",
              "326      3.2     21.9       0.0          6.8       5.2          NW   \n",
              "111     12.0     28.9       0.0          7.2       8.2         ESE   \n",
              "275      4.4     11.5       6.6          2.2       9.3         WNW   \n",
              "129     12.1     27.8       0.0          5.0      11.5           E   \n",
              "40      11.8     18.5       0.6          4.8       2.3         ENE   \n",
              "..       ...      ...       ...          ...       ...         ...   \n",
              "208      4.9     18.1       5.2          1.2       8.5         NNW   \n",
              "145     13.1     17.4       6.4          2.8       0.0         NNW   \n",
              "295     -0.6     12.2       0.0          2.6       7.0           S   \n",
              "346      4.5     23.9       0.0          4.8      11.7          NW   \n",
              "117     13.0     28.2       0.0          5.0      11.6          NW   \n",
              "\n",
              "     WindGustSpeed WindDir9am WindDir3pm  WindSpeed9am  ...  Humidity3pm  \\\n",
              "326           80.0        SSE         NW           2.0  ...           50   \n",
              "111           39.0        SSE        WNW           2.0  ...           31   \n",
              "275           57.0        NNW        WNW          28.0  ...           56   \n",
              "129           41.0         SE        NNE           7.0  ...           33   \n",
              "40            35.0        ESE          E           9.0  ...           63   \n",
              "..             ...        ...        ...           ...  ...          ...   \n",
              "208           22.0        NaN         NW           0.0  ...           55   \n",
              "145           43.0          N          N          11.0  ...           93   \n",
              "295           59.0          S          S          15.0  ...           44   \n",
              "346           30.0        ENE        NNW           4.0  ...           27   \n",
              "117           44.0        WSW         NW           4.0  ...           27   \n",
              "\n",
              "     Pressure9am  Pressure3pm  Cloud9am  Cloud3pm  Temp9am  Temp3pm  \\\n",
              "326       1012.1       1006.5         1         8     15.9     21.0   \n",
              "111       1012.2       1009.1         2         7     17.4     28.6   \n",
              "275       1013.9       1014.9         1         1      6.9     10.5   \n",
              "129       1024.8       1023.1         0         1     17.8     27.0   \n",
              "40        1018.0       1017.4         8         6     13.8     16.4   \n",
              "..           ...          ...       ...       ...      ...      ...   \n",
              "208       1025.7       1022.3         1         1      8.9     17.7   \n",
              "145       1010.2       1006.5         8         8     16.4     16.6   \n",
              "295       1018.5       1016.8         8         5      6.9     10.7   \n",
              "346       1025.8       1021.5         0         4     12.6     22.3   \n",
              "117       1017.6       1014.4         3         6     17.4     27.0   \n",
              "\n",
              "     RainToday  RISK_MM RainTomorrow  \n",
              "326         No     17.4          Yes  \n",
              "111         No      1.8          Yes  \n",
              "275        Yes      0.0           No  \n",
              "129         No      0.0           No  \n",
              "40          No      0.0           No  \n",
              "..         ...      ...          ...  \n",
              "208        Yes      0.0           No  \n",
              "145        Yes     19.8          Yes  \n",
              "295         No      0.0           No  \n",
              "346         No      0.0           No  \n",
              "117         No      0.0           No  \n",
              "\n",
              "[91 rows x 22 columns]"
            ],
            "text/html": [
              "\n",
              "  <div id=\"df-cbcedf1e-569b-4052-9c90-7fb6f9f64be1\" class=\"colab-df-container\">\n",
              "    <div>\n",
              "<style scoped>\n",
              "    .dataframe tbody tr th:only-of-type {\n",
              "        vertical-align: middle;\n",
              "    }\n",
              "\n",
              "    .dataframe tbody tr th {\n",
              "        vertical-align: top;\n",
              "    }\n",
              "\n",
              "    .dataframe thead th {\n",
              "        text-align: right;\n",
              "    }\n",
              "</style>\n",
              "<table border=\"1\" class=\"dataframe\">\n",
              "  <thead>\n",
              "    <tr style=\"text-align: right;\">\n",
              "      <th></th>\n",
              "      <th>MinTemp</th>\n",
              "      <th>MaxTemp</th>\n",
              "      <th>Rainfall</th>\n",
              "      <th>Evaporation</th>\n",
              "      <th>Sunshine</th>\n",
              "      <th>WindGustDir</th>\n",
              "      <th>WindGustSpeed</th>\n",
              "      <th>WindDir9am</th>\n",
              "      <th>WindDir3pm</th>\n",
              "      <th>WindSpeed9am</th>\n",
              "      <th>...</th>\n",
              "      <th>Humidity3pm</th>\n",
              "      <th>Pressure9am</th>\n",
              "      <th>Pressure3pm</th>\n",
              "      <th>Cloud9am</th>\n",
              "      <th>Cloud3pm</th>\n",
              "      <th>Temp9am</th>\n",
              "      <th>Temp3pm</th>\n",
              "      <th>RainToday</th>\n",
              "      <th>RISK_MM</th>\n",
              "      <th>RainTomorrow</th>\n",
              "    </tr>\n",
              "  </thead>\n",
              "  <tbody>\n",
              "    <tr>\n",
              "      <th>326</th>\n",
              "      <td>3.2</td>\n",
              "      <td>21.9</td>\n",
              "      <td>0.0</td>\n",
              "      <td>6.8</td>\n",
              "      <td>5.2</td>\n",
              "      <td>NW</td>\n",
              "      <td>80.0</td>\n",
              "      <td>SSE</td>\n",
              "      <td>NW</td>\n",
              "      <td>2.0</td>\n",
              "      <td>...</td>\n",
              "      <td>50</td>\n",
              "      <td>1012.1</td>\n",
              "      <td>1006.5</td>\n",
              "      <td>1</td>\n",
              "      <td>8</td>\n",
              "      <td>15.9</td>\n",
              "      <td>21.0</td>\n",
              "      <td>No</td>\n",
              "      <td>17.4</td>\n",
              "      <td>Yes</td>\n",
              "    </tr>\n",
              "    <tr>\n",
              "      <th>111</th>\n",
              "      <td>12.0</td>\n",
              "      <td>28.9</td>\n",
              "      <td>0.0</td>\n",
              "      <td>7.2</td>\n",
              "      <td>8.2</td>\n",
              "      <td>ESE</td>\n",
              "      <td>39.0</td>\n",
              "      <td>SSE</td>\n",
              "      <td>WNW</td>\n",
              "      <td>2.0</td>\n",
              "      <td>...</td>\n",
              "      <td>31</td>\n",
              "      <td>1012.2</td>\n",
              "      <td>1009.1</td>\n",
              "      <td>2</td>\n",
              "      <td>7</td>\n",
              "      <td>17.4</td>\n",
              "      <td>28.6</td>\n",
              "      <td>No</td>\n",
              "      <td>1.8</td>\n",
              "      <td>Yes</td>\n",
              "    </tr>\n",
              "    <tr>\n",
              "      <th>275</th>\n",
              "      <td>4.4</td>\n",
              "      <td>11.5</td>\n",
              "      <td>6.6</td>\n",
              "      <td>2.2</td>\n",
              "      <td>9.3</td>\n",
              "      <td>WNW</td>\n",
              "      <td>57.0</td>\n",
              "      <td>NNW</td>\n",
              "      <td>WNW</td>\n",
              "      <td>28.0</td>\n",
              "      <td>...</td>\n",
              "      <td>56</td>\n",
              "      <td>1013.9</td>\n",
              "      <td>1014.9</td>\n",
              "      <td>1</td>\n",
              "      <td>1</td>\n",
              "      <td>6.9</td>\n",
              "      <td>10.5</td>\n",
              "      <td>Yes</td>\n",
              "      <td>0.0</td>\n",
              "      <td>No</td>\n",
              "    </tr>\n",
              "    <tr>\n",
              "      <th>129</th>\n",
              "      <td>12.1</td>\n",
              "      <td>27.8</td>\n",
              "      <td>0.0</td>\n",
              "      <td>5.0</td>\n",
              "      <td>11.5</td>\n",
              "      <td>E</td>\n",
              "      <td>41.0</td>\n",
              "      <td>SE</td>\n",
              "      <td>NNE</td>\n",
              "      <td>7.0</td>\n",
              "      <td>...</td>\n",
              "      <td>33</td>\n",
              "      <td>1024.8</td>\n",
              "      <td>1023.1</td>\n",
              "      <td>0</td>\n",
              "      <td>1</td>\n",
              "      <td>17.8</td>\n",
              "      <td>27.0</td>\n",
              "      <td>No</td>\n",
              "      <td>0.0</td>\n",
              "      <td>No</td>\n",
              "    </tr>\n",
              "    <tr>\n",
              "      <th>40</th>\n",
              "      <td>11.8</td>\n",
              "      <td>18.5</td>\n",
              "      <td>0.6</td>\n",
              "      <td>4.8</td>\n",
              "      <td>2.3</td>\n",
              "      <td>ENE</td>\n",
              "      <td>35.0</td>\n",
              "      <td>ESE</td>\n",
              "      <td>E</td>\n",
              "      <td>9.0</td>\n",
              "      <td>...</td>\n",
              "      <td>63</td>\n",
              "      <td>1018.0</td>\n",
              "      <td>1017.4</td>\n",
              "      <td>8</td>\n",
              "      <td>6</td>\n",
              "      <td>13.8</td>\n",
              "      <td>16.4</td>\n",
              "      <td>No</td>\n",
              "      <td>0.0</td>\n",
              "      <td>No</td>\n",
              "    </tr>\n",
              "    <tr>\n",
              "      <th>...</th>\n",
              "      <td>...</td>\n",
              "      <td>...</td>\n",
              "      <td>...</td>\n",
              "      <td>...</td>\n",
              "      <td>...</td>\n",
              "      <td>...</td>\n",
              "      <td>...</td>\n",
              "      <td>...</td>\n",
              "      <td>...</td>\n",
              "      <td>...</td>\n",
              "      <td>...</td>\n",
              "      <td>...</td>\n",
              "      <td>...</td>\n",
              "      <td>...</td>\n",
              "      <td>...</td>\n",
              "      <td>...</td>\n",
              "      <td>...</td>\n",
              "      <td>...</td>\n",
              "      <td>...</td>\n",
              "      <td>...</td>\n",
              "      <td>...</td>\n",
              "    </tr>\n",
              "    <tr>\n",
              "      <th>208</th>\n",
              "      <td>4.9</td>\n",
              "      <td>18.1</td>\n",
              "      <td>5.2</td>\n",
              "      <td>1.2</td>\n",
              "      <td>8.5</td>\n",
              "      <td>NNW</td>\n",
              "      <td>22.0</td>\n",
              "      <td>NaN</td>\n",
              "      <td>NW</td>\n",
              "      <td>0.0</td>\n",
              "      <td>...</td>\n",
              "      <td>55</td>\n",
              "      <td>1025.7</td>\n",
              "      <td>1022.3</td>\n",
              "      <td>1</td>\n",
              "      <td>1</td>\n",
              "      <td>8.9</td>\n",
              "      <td>17.7</td>\n",
              "      <td>Yes</td>\n",
              "      <td>0.0</td>\n",
              "      <td>No</td>\n",
              "    </tr>\n",
              "    <tr>\n",
              "      <th>145</th>\n",
              "      <td>13.1</td>\n",
              "      <td>17.4</td>\n",
              "      <td>6.4</td>\n",
              "      <td>2.8</td>\n",
              "      <td>0.0</td>\n",
              "      <td>NNW</td>\n",
              "      <td>43.0</td>\n",
              "      <td>N</td>\n",
              "      <td>N</td>\n",
              "      <td>11.0</td>\n",
              "      <td>...</td>\n",
              "      <td>93</td>\n",
              "      <td>1010.2</td>\n",
              "      <td>1006.5</td>\n",
              "      <td>8</td>\n",
              "      <td>8</td>\n",
              "      <td>16.4</td>\n",
              "      <td>16.6</td>\n",
              "      <td>Yes</td>\n",
              "      <td>19.8</td>\n",
              "      <td>Yes</td>\n",
              "    </tr>\n",
              "    <tr>\n",
              "      <th>295</th>\n",
              "      <td>-0.6</td>\n",
              "      <td>12.2</td>\n",
              "      <td>0.0</td>\n",
              "      <td>2.6</td>\n",
              "      <td>7.0</td>\n",
              "      <td>S</td>\n",
              "      <td>59.0</td>\n",
              "      <td>S</td>\n",
              "      <td>S</td>\n",
              "      <td>15.0</td>\n",
              "      <td>...</td>\n",
              "      <td>44</td>\n",
              "      <td>1018.5</td>\n",
              "      <td>1016.8</td>\n",
              "      <td>8</td>\n",
              "      <td>5</td>\n",
              "      <td>6.9</td>\n",
              "      <td>10.7</td>\n",
              "      <td>No</td>\n",
              "      <td>0.0</td>\n",
              "      <td>No</td>\n",
              "    </tr>\n",
              "    <tr>\n",
              "      <th>346</th>\n",
              "      <td>4.5</td>\n",
              "      <td>23.9</td>\n",
              "      <td>0.0</td>\n",
              "      <td>4.8</td>\n",
              "      <td>11.7</td>\n",
              "      <td>NW</td>\n",
              "      <td>30.0</td>\n",
              "      <td>ENE</td>\n",
              "      <td>NNW</td>\n",
              "      <td>4.0</td>\n",
              "      <td>...</td>\n",
              "      <td>27</td>\n",
              "      <td>1025.8</td>\n",
              "      <td>1021.5</td>\n",
              "      <td>0</td>\n",
              "      <td>4</td>\n",
              "      <td>12.6</td>\n",
              "      <td>22.3</td>\n",
              "      <td>No</td>\n",
              "      <td>0.0</td>\n",
              "      <td>No</td>\n",
              "    </tr>\n",
              "    <tr>\n",
              "      <th>117</th>\n",
              "      <td>13.0</td>\n",
              "      <td>28.2</td>\n",
              "      <td>0.0</td>\n",
              "      <td>5.0</td>\n",
              "      <td>11.6</td>\n",
              "      <td>NW</td>\n",
              "      <td>44.0</td>\n",
              "      <td>WSW</td>\n",
              "      <td>NW</td>\n",
              "      <td>4.0</td>\n",
              "      <td>...</td>\n",
              "      <td>27</td>\n",
              "      <td>1017.6</td>\n",
              "      <td>1014.4</td>\n",
              "      <td>3</td>\n",
              "      <td>6</td>\n",
              "      <td>17.4</td>\n",
              "      <td>27.0</td>\n",
              "      <td>No</td>\n",
              "      <td>0.0</td>\n",
              "      <td>No</td>\n",
              "    </tr>\n",
              "  </tbody>\n",
              "</table>\n",
              "<p>91 rows × 22 columns</p>\n",
              "</div>\n",
              "    <div class=\"colab-df-buttons\">\n",
              "\n",
              "  <div class=\"colab-df-container\">\n",
              "    <button class=\"colab-df-convert\" onclick=\"convertToInteractive('df-cbcedf1e-569b-4052-9c90-7fb6f9f64be1')\"\n",
              "            title=\"Convert this dataframe to an interactive table.\"\n",
              "            style=\"display:none;\">\n",
              "\n",
              "  <svg xmlns=\"http://www.w3.org/2000/svg\" height=\"24px\" viewBox=\"0 -960 960 960\">\n",
              "    <path d=\"M120-120v-720h720v720H120Zm60-500h600v-160H180v160Zm220 220h160v-160H400v160Zm0 220h160v-160H400v160ZM180-400h160v-160H180v160Zm440 0h160v-160H620v160ZM180-180h160v-160H180v160Zm440 0h160v-160H620v160Z\"/>\n",
              "  </svg>\n",
              "    </button>\n",
              "\n",
              "  <style>\n",
              "    .colab-df-container {\n",
              "      display:flex;\n",
              "      gap: 12px;\n",
              "    }\n",
              "\n",
              "    .colab-df-convert {\n",
              "      background-color: #E8F0FE;\n",
              "      border: none;\n",
              "      border-radius: 50%;\n",
              "      cursor: pointer;\n",
              "      display: none;\n",
              "      fill: #1967D2;\n",
              "      height: 32px;\n",
              "      padding: 0 0 0 0;\n",
              "      width: 32px;\n",
              "    }\n",
              "\n",
              "    .colab-df-convert:hover {\n",
              "      background-color: #E2EBFA;\n",
              "      box-shadow: 0px 1px 2px rgba(60, 64, 67, 0.3), 0px 1px 3px 1px rgba(60, 64, 67, 0.15);\n",
              "      fill: #174EA6;\n",
              "    }\n",
              "\n",
              "    .colab-df-buttons div {\n",
              "      margin-bottom: 4px;\n",
              "    }\n",
              "\n",
              "    [theme=dark] .colab-df-convert {\n",
              "      background-color: #3B4455;\n",
              "      fill: #D2E3FC;\n",
              "    }\n",
              "\n",
              "    [theme=dark] .colab-df-convert:hover {\n",
              "      background-color: #434B5C;\n",
              "      box-shadow: 0px 1px 3px 1px rgba(0, 0, 0, 0.15);\n",
              "      filter: drop-shadow(0px 1px 2px rgba(0, 0, 0, 0.3));\n",
              "      fill: #FFFFFF;\n",
              "    }\n",
              "  </style>\n",
              "\n",
              "    <script>\n",
              "      const buttonEl =\n",
              "        document.querySelector('#df-cbcedf1e-569b-4052-9c90-7fb6f9f64be1 button.colab-df-convert');\n",
              "      buttonEl.style.display =\n",
              "        google.colab.kernel.accessAllowed ? 'block' : 'none';\n",
              "\n",
              "      async function convertToInteractive(key) {\n",
              "        const element = document.querySelector('#df-cbcedf1e-569b-4052-9c90-7fb6f9f64be1');\n",
              "        const dataTable =\n",
              "          await google.colab.kernel.invokeFunction('convertToInteractive',\n",
              "                                                    [key], {});\n",
              "        if (!dataTable) return;\n",
              "\n",
              "        const docLinkHtml = 'Like what you see? Visit the ' +\n",
              "          '<a target=\"_blank\" href=https://colab.research.google.com/notebooks/data_table.ipynb>data table notebook</a>'\n",
              "          + ' to learn more about interactive tables.';\n",
              "        element.innerHTML = '';\n",
              "        dataTable['output_type'] = 'display_data';\n",
              "        await google.colab.output.renderOutput(dataTable, element);\n",
              "        const docLink = document.createElement('div');\n",
              "        docLink.innerHTML = docLinkHtml;\n",
              "        element.appendChild(docLink);\n",
              "      }\n",
              "    </script>\n",
              "  </div>\n",
              "\n",
              "\n",
              "<div id=\"df-6799266f-38c0-459b-8aa1-f1072d89eb1a\">\n",
              "  <button class=\"colab-df-quickchart\" onclick=\"quickchart('df-6799266f-38c0-459b-8aa1-f1072d89eb1a')\"\n",
              "            title=\"Suggest charts.\"\n",
              "            style=\"display:none;\">\n",
              "\n",
              "<svg xmlns=\"http://www.w3.org/2000/svg\" height=\"24px\"viewBox=\"0 0 24 24\"\n",
              "     width=\"24px\">\n",
              "    <g>\n",
              "        <path d=\"M19 3H5c-1.1 0-2 .9-2 2v14c0 1.1.9 2 2 2h14c1.1 0 2-.9 2-2V5c0-1.1-.9-2-2-2zM9 17H7v-7h2v7zm4 0h-2V7h2v10zm4 0h-2v-4h2v4z\"/>\n",
              "    </g>\n",
              "</svg>\n",
              "  </button>\n",
              "\n",
              "<style>\n",
              "  .colab-df-quickchart {\n",
              "      --bg-color: #E8F0FE;\n",
              "      --fill-color: #1967D2;\n",
              "      --hover-bg-color: #E2EBFA;\n",
              "      --hover-fill-color: #174EA6;\n",
              "      --disabled-fill-color: #AAA;\n",
              "      --disabled-bg-color: #DDD;\n",
              "  }\n",
              "\n",
              "  [theme=dark] .colab-df-quickchart {\n",
              "      --bg-color: #3B4455;\n",
              "      --fill-color: #D2E3FC;\n",
              "      --hover-bg-color: #434B5C;\n",
              "      --hover-fill-color: #FFFFFF;\n",
              "      --disabled-bg-color: #3B4455;\n",
              "      --disabled-fill-color: #666;\n",
              "  }\n",
              "\n",
              "  .colab-df-quickchart {\n",
              "    background-color: var(--bg-color);\n",
              "    border: none;\n",
              "    border-radius: 50%;\n",
              "    cursor: pointer;\n",
              "    display: none;\n",
              "    fill: var(--fill-color);\n",
              "    height: 32px;\n",
              "    padding: 0;\n",
              "    width: 32px;\n",
              "  }\n",
              "\n",
              "  .colab-df-quickchart:hover {\n",
              "    background-color: var(--hover-bg-color);\n",
              "    box-shadow: 0 1px 2px rgba(60, 64, 67, 0.3), 0 1px 3px 1px rgba(60, 64, 67, 0.15);\n",
              "    fill: var(--button-hover-fill-color);\n",
              "  }\n",
              "\n",
              "  .colab-df-quickchart-complete:disabled,\n",
              "  .colab-df-quickchart-complete:disabled:hover {\n",
              "    background-color: var(--disabled-bg-color);\n",
              "    fill: var(--disabled-fill-color);\n",
              "    box-shadow: none;\n",
              "  }\n",
              "\n",
              "  .colab-df-spinner {\n",
              "    border: 2px solid var(--fill-color);\n",
              "    border-color: transparent;\n",
              "    border-bottom-color: var(--fill-color);\n",
              "    animation:\n",
              "      spin 1s steps(1) infinite;\n",
              "  }\n",
              "\n",
              "  @keyframes spin {\n",
              "    0% {\n",
              "      border-color: transparent;\n",
              "      border-bottom-color: var(--fill-color);\n",
              "      border-left-color: var(--fill-color);\n",
              "    }\n",
              "    20% {\n",
              "      border-color: transparent;\n",
              "      border-left-color: var(--fill-color);\n",
              "      border-top-color: var(--fill-color);\n",
              "    }\n",
              "    30% {\n",
              "      border-color: transparent;\n",
              "      border-left-color: var(--fill-color);\n",
              "      border-top-color: var(--fill-color);\n",
              "      border-right-color: var(--fill-color);\n",
              "    }\n",
              "    40% {\n",
              "      border-color: transparent;\n",
              "      border-right-color: var(--fill-color);\n",
              "      border-top-color: var(--fill-color);\n",
              "    }\n",
              "    60% {\n",
              "      border-color: transparent;\n",
              "      border-right-color: var(--fill-color);\n",
              "    }\n",
              "    80% {\n",
              "      border-color: transparent;\n",
              "      border-right-color: var(--fill-color);\n",
              "      border-bottom-color: var(--fill-color);\n",
              "    }\n",
              "    90% {\n",
              "      border-color: transparent;\n",
              "      border-bottom-color: var(--fill-color);\n",
              "    }\n",
              "  }\n",
              "</style>\n",
              "\n",
              "  <script>\n",
              "    async function quickchart(key) {\n",
              "      const quickchartButtonEl =\n",
              "        document.querySelector('#' + key + ' button');\n",
              "      quickchartButtonEl.disabled = true;  // To prevent multiple clicks.\n",
              "      quickchartButtonEl.classList.add('colab-df-spinner');\n",
              "      try {\n",
              "        const charts = await google.colab.kernel.invokeFunction(\n",
              "            'suggestCharts', [key], {});\n",
              "      } catch (error) {\n",
              "        console.error('Error during call to suggestCharts:', error);\n",
              "      }\n",
              "      quickchartButtonEl.classList.remove('colab-df-spinner');\n",
              "      quickchartButtonEl.classList.add('colab-df-quickchart-complete');\n",
              "    }\n",
              "    (() => {\n",
              "      let quickchartButtonEl =\n",
              "        document.querySelector('#df-6799266f-38c0-459b-8aa1-f1072d89eb1a button');\n",
              "      quickchartButtonEl.style.display =\n",
              "        google.colab.kernel.accessAllowed ? 'block' : 'none';\n",
              "    })();\n",
              "  </script>\n",
              "</div>\n",
              "    </div>\n",
              "  </div>\n"
            ]
          },
          "metadata": {},
          "execution_count": 9
        }
      ]
    },
    {
      "cell_type": "markdown",
      "source": [
        "10.) Create the following data frame in Python."
      ],
      "metadata": {
        "id": "1sh7TyU39efG"
      }
    },
    {
      "cell_type": "code",
      "source": [
        "import pandas as pd\n",
        "\n",
        "#  i Created a dictionary with the data\n",
        "data = {\n",
        "    'Name': ['John', 'Tapan', 'Mike', 'Josh', 'Kindson', 'Dimuthu'],\n",
        "    'Age': [24, 32, 36, 28, 38, 25],\n",
        "    'Height': [165, 170, 180, 178, 182, 168],\n",
        "    'Location': ['Stockholm', 'Bangalore', 'Sydney', 'London', 'Budapest', 'Colombo']\n",
        "}\n",
        "\n",
        "# Created the DataFrame\n",
        "df = pd.DataFrame(data)\n",
        "\n",
        "\n",
        "print(df)\n"
      ],
      "metadata": {
        "colab": {
          "base_uri": "https://localhost:8080/"
        },
        "id": "l-VuhZG89B5_",
        "outputId": "f1975bea-b206-4300-ce77-405c0ebb8b94"
      },
      "execution_count": null,
      "outputs": [
        {
          "output_type": "stream",
          "name": "stdout",
          "text": [
            "      Name  Age  Height   Location\n",
            "0     John   24     165  Stockholm\n",
            "1    Tapan   32     170  Bangalore\n",
            "2     Mike   36     180     Sydney\n",
            "3     Josh   28     178     London\n",
            "4  Kindson   38     182   Budapest\n",
            "5  Dimuthu   25     168    Colombo\n"
          ]
        }
      ]
    },
    {
      "cell_type": "markdown",
      "source": [
        "11.) Display the first and last three columns of the dataframe"
      ],
      "metadata": {
        "id": "iMH-UBHJ-q28"
      }
    },
    {
      "cell_type": "code",
      "source": [
        "import pandas as pd\n",
        "\n",
        "file_path = '/content/drive/MyDrive/Colab Notebooks/weather.csv'\n",
        "\n",
        "# I Read the CSV file into a DataFrame\n",
        "df = pd.read_csv(file_path)\n",
        "\n",
        "# Select the first and last three columns using DataFrame slicing\n",
        "first_three = df.iloc[:, :3]\n",
        "\n",
        "print(first_three)\n"
      ],
      "metadata": {
        "colab": {
          "base_uri": "https://localhost:8080/"
        },
        "id": "fjqzNPmrOvO4",
        "outputId": "98e948f1-913d-4b56-b138-be1097dc61b2"
      },
      "execution_count": null,
      "outputs": [
        {
          "output_type": "stream",
          "name": "stdout",
          "text": [
            "     MinTemp  MaxTemp  Rainfall\n",
            "0        8.0     24.3       0.0\n",
            "1       14.0     26.9       3.6\n",
            "2       13.7     23.4       3.6\n",
            "3       13.3     15.5      39.8\n",
            "4        7.6     16.1       2.8\n",
            "..       ...      ...       ...\n",
            "361      9.0     30.7       0.0\n",
            "362      7.1     28.4       0.0\n",
            "363     12.5     19.9       0.0\n",
            "364     12.5     26.9       0.0\n",
            "365     12.3     30.2       0.0\n",
            "\n",
            "[366 rows x 3 columns]\n"
          ]
        }
      ]
    },
    {
      "cell_type": "code",
      "source": [
        "last_three = (df.iloc[:, -3:])\n",
        "\n",
        "print(last_three)"
      ],
      "metadata": {
        "colab": {
          "base_uri": "https://localhost:8080/"
        },
        "id": "AQsePOaGR99J",
        "outputId": "b997305a-b06b-4c2a-958a-4ece94db6c53"
      },
      "execution_count": null,
      "outputs": [
        {
          "output_type": "stream",
          "name": "stdout",
          "text": [
            "    RainToday  RISK_MM RainTomorrow\n",
            "0          No      3.6          Yes\n",
            "1         Yes      3.6          Yes\n",
            "2         Yes     39.8          Yes\n",
            "3         Yes      2.8          Yes\n",
            "4         Yes      0.0           No\n",
            "..        ...      ...          ...\n",
            "361        No      0.0           No\n",
            "362        No      0.0           No\n",
            "363        No      0.0           No\n",
            "364        No      0.0           No\n",
            "365        No      0.0           No\n",
            "\n",
            "[366 rows x 3 columns]\n"
          ]
        }
      ]
    },
    {
      "cell_type": "markdown",
      "source": [
        "12.) . What is the output of the following code? Explain the append method in the\n",
        "dataframe."
      ],
      "metadata": {
        "id": "FhK1SC1l_bwJ"
      }
    },
    {
      "cell_type": "code",
      "source": [
        "import pandas as pd\n",
        "\n",
        "# Create the first DataFrame 'df'\n",
        "df = pd.DataFrame({'Courses': [\"Spark\", \"PySpark\", \"Python\", \"pandas\"],\n",
        "                   'Fee': [20000, 25000, 22000, 24000]})\n",
        "\n",
        "# Create the second DataFrame 'df1'\n",
        "df1 = pd.DataFrame({'Courses': [\"Pandas\", \"Hadoop\", \"Hyperion\", \"Java\"],\n",
        "                    'Fee': [25000, 25200, 24500, 24900],\n",
        "                    'Duration': ['30days', '35days', '40days', '45days']})\n",
        "\n",
        "# Using append() method to concatenate 'df' and 'df1'\n",
        "df2 = df.append(df1)\n",
        "\n",
        "# Print the concatenated DataFrame 'df2'\n",
        "print(df2)\n"
      ],
      "metadata": {
        "colab": {
          "base_uri": "https://localhost:8080/"
        },
        "id": "gok9Wgg6_j7Z",
        "outputId": "28835d28-8088-447b-bdee-1f0afee881b9"
      },
      "execution_count": null,
      "outputs": [
        {
          "output_type": "stream",
          "name": "stdout",
          "text": [
            "    Courses    Fee Duration\n",
            "0     Spark  20000      NaN\n",
            "1   PySpark  25000      NaN\n",
            "2    Python  22000      NaN\n",
            "3    pandas  24000      NaN\n",
            "0    Pandas  25000   30days\n",
            "1    Hadoop  25200   35days\n",
            "2  Hyperion  24500   40days\n",
            "3      Java  24900   45days\n"
          ]
        },
        {
          "output_type": "stream",
          "name": "stderr",
          "text": [
            "<ipython-input-20-86e31a173e56>:13: FutureWarning: The frame.append method is deprecated and will be removed from pandas in a future version. Use pandas.concat instead.\n",
            "  df2 = df.append(df1)\n"
          ]
        }
      ]
    },
    {
      "cell_type": "markdown",
      "source": [
        "The append() method is used to concatenate df and df1. When using append(), the DataFrames are concatenated row-wise. The index values from both DataFrames are retained, which is why you see index values 0, 1, 2, 3 for both parts of the concatenated DataFrame df2"
      ],
      "metadata": {
        "id": "PWT-s2EWDfV_"
      }
    }
  ]
}