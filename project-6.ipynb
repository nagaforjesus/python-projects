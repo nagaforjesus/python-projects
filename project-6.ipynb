{
  "nbformat": 4,
  "nbformat_minor": 0,
  "metadata": {
    "colab": {
      "provenance": [],
      "include_colab_link": true
    },
    "kernelspec": {
      "name": "python3",
      "display_name": "Python 3"
    },
    "language_info": {
      "name": "python"
    }
  },
  "cells": [
    {
      "cell_type": "markdown",
      "metadata": {
        "id": "view-in-github",
        "colab_type": "text"
      },
      "source": [
        "<a href=\"https://colab.research.google.com/github/nagaforjesus/python-projects/blob/main/project-6.ipynb\" target=\"_parent\"><img src=\"https://colab.research.google.com/assets/colab-badge.svg\" alt=\"Open In Colab\"/></a>"
      ]
    },
    {
      "cell_type": "code",
      "execution_count": null,
      "metadata": {
        "id": "9MHmLbysUhDB"
      },
      "outputs": [],
      "source": []
    },
    {
      "cell_type": "markdown",
      "source": [
        "1. Write a python code to check if a given year is a leap year.\n"
      ],
      "metadata": {
        "id": "4z63xr5lVASD"
      }
    },
    {
      "cell_type": "code",
      "source": [
        "def is_leap_year(year):\n",
        "    if (year % 4 == 0 and year % 100 != 0) or (year % 400 == 0):\n",
        "        return True\n",
        "    else:\n",
        "        return False\n",
        "\n",
        "\n",
        "year = int(input(\"Enter a year: \"))\n",
        "\n",
        "if is_leap_year(year):\n",
        "    print(f\"{year} is a leap year.\")\n",
        "else:\n",
        "    print(f\"{year} is not a leap year.\")\n",
        "#2023 is not a leap year beacause Is divisible by 4 and Is divisible by 100 but not divisible by 400.\n"
      ],
      "metadata": {
        "colab": {
          "base_uri": "https://localhost:8080/"
        },
        "id": "Lw3EBcTfVLXp",
        "outputId": "2f2dcea1-e7c3-4b93-aeb7-8e933d081a65"
      },
      "execution_count": null,
      "outputs": [
        {
          "output_type": "stream",
          "name": "stdout",
          "text": [
            "Enter a year: 2001\n",
            "2001 is not a leap year.\n"
          ]
        }
      ]
    },
    {
      "cell_type": "markdown",
      "source": [
        "2. Using a for loop write python code to print the pattern below.(Hint: The code should work for any number of rows)"
      ],
      "metadata": {
        "id": "AznFkS4rVYOe"
      }
    },
    {
      "cell_type": "code",
      "source": [
        "num_rows = 10\n",
        "#Printed the first line to form the first 4 rows\n",
        "for i in range(1, num_rows + 1):\n",
        "    for j in range(1, i + 1):\n",
        "        print(j, end=\" \")\n",
        "    print()\n",
        "#Printed the lower line to form the last three rows\n",
        "for i in range(num_rows - 1, 0, -1):\n",
        "    for j in range(1, i + 1):\n",
        "        print(j, end=\" \")\n",
        "    print()"
      ],
      "metadata": {
        "colab": {
          "base_uri": "https://localhost:8080/"
        },
        "id": "nd2Fnh6EV0AA",
        "outputId": "31a28d29-63a0-40af-af6f-b6b95f52d4a5"
      },
      "execution_count": null,
      "outputs": [
        {
          "output_type": "stream",
          "name": "stdout",
          "text": [
            "1 \n",
            "1 2 \n",
            "1 2 3 \n",
            "1 2 3 4 \n",
            "1 2 3 4 5 \n",
            "1 2 3 4 5 6 \n",
            "1 2 3 4 5 6 7 \n",
            "1 2 3 4 5 6 7 8 \n",
            "1 2 3 4 5 6 7 8 9 \n",
            "1 2 3 4 5 6 7 8 9 10 \n",
            "1 2 3 4 5 6 7 8 9 \n",
            "1 2 3 4 5 6 7 8 \n",
            "1 2 3 4 5 6 7 \n",
            "1 2 3 4 5 6 \n",
            "1 2 3 4 5 \n",
            "1 2 3 4 \n",
            "1 2 3 \n",
            "1 2 \n",
            "1 \n"
          ]
        }
      ]
    },
    {
      "cell_type": "code",
      "source": [],
      "metadata": {
        "id": "Zrd53JDuWCHg"
      },
      "execution_count": null,
      "outputs": []
    },
    {
      "cell_type": "markdown",
      "source": [
        "3. For the string, \"DCS650isawesome\", use a while loop to print all letters expect s, a, and e. (Hint: Use the continue statement.)"
      ],
      "metadata": {
        "id": "FewsVZ3HWLkF"
      }
    },
    {
      "cell_type": "code",
      "source": [
        "string = \"DCS650isawesome\"\n",
        "\n",
        "# Initialize index to keep track of the current position in the string\n",
        "index = 0\n",
        "\n",
        "# Start a while loop that continues as long as the index is within the bounds of the string\n",
        "while index < len(string):\n",
        "    # Get the current letter at the current index\n",
        "    letter = string[index]\n",
        "\n",
        "    # Check if the current letter is 's', 'a', or 'e'\n",
        "    if letter in ['s', 'a', 'e']:\n",
        "        # If it is, skip to the next iteration of the loop\n",
        "        index += 1\n",
        "        continue\n",
        "\n",
        "    # If the current letter is not 's', 'a', or 'e', print it\n",
        "    print(letter)\n",
        "\n",
        "\n",
        "    index += 1\n"
      ],
      "metadata": {
        "colab": {
          "base_uri": "https://localhost:8080/"
        },
        "id": "8onrBSnRWSkN",
        "outputId": "86369e53-130f-4c81-f15d-100a6b5b15f7"
      },
      "execution_count": null,
      "outputs": [
        {
          "output_type": "stream",
          "name": "stdout",
          "text": [
            "D\n",
            "C\n",
            "S\n",
            "6\n",
            "5\n",
            "0\n",
            "i\n",
            "w\n",
            "o\n",
            "m\n"
          ]
        }
      ]
    },
    {
      "cell_type": "code",
      "source": [],
      "metadata": {
        "id": "Bejm3HkLWZAF"
      },
      "execution_count": null,
      "outputs": []
    },
    {
      "cell_type": "markdown",
      "source": [
        "4. For the string, \"DCS650isawesome\", use a while loop to print all letters before the first a. (Hint: Use the break statement."
      ],
      "metadata": {
        "id": "0lIGXfhHWaW1"
      }
    },
    {
      "cell_type": "code",
      "source": [
        "#input string\n",
        "string = \"DCS650isawesome\"\n",
        "\n",
        "# Initialize the index variable to keep track of the current position in the string\n",
        "index = 0\n",
        "\n",
        "# Start a while loop that will iterate until the index is less than the length of the string\n",
        "while index < len(string):\n",
        "    # Check if the current character at the current index is 'a'\n",
        "    if string[index] == 'a':\n",
        "        # If 'a' is found, exit the loop using the break statement\n",
        "        break\n",
        "\n",
        "    # Print the current character as it is before 'a' is encountered\n",
        "    print(string[index])\n",
        "\n",
        "\n",
        "    index += 1\n"
      ],
      "metadata": {
        "colab": {
          "base_uri": "https://localhost:8080/"
        },
        "id": "ERfFX7fuWldd",
        "outputId": "aaadfeb7-2573-4b79-c145-30076a531491"
      },
      "execution_count": null,
      "outputs": [
        {
          "output_type": "stream",
          "name": "stdout",
          "text": [
            "D\n",
            "C\n",
            "S\n",
            "6\n",
            "5\n",
            "0\n",
            "i\n",
            "s\n"
          ]
        }
      ]
    },
    {
      "cell_type": "code",
      "source": [],
      "metadata": {
        "id": "ifWWYlJqWrAd"
      },
      "execution_count": null,
      "outputs": []
    },
    {
      "cell_type": "markdown",
      "source": [
        "5. There is a student who has an academic scholarship. If he fails a class, he loses the scholarship. Write a python program which stops the scholarship once a grade is an F. Use this list, grades = [93, 95, 84, 100, 65, 53, 100, 92]. Using the letter grade scheme listed in the syllabus, create this program. Have your program print, \"Scholarship is stopped\""
      ],
      "metadata": {
        "id": "XkQnKGZ0W19z"
      }
    },
    {
      "cell_type": "code",
      "source": [
        "# List of grades\n",
        "grades = [93, 95, 84, 100, 65, 53, 100, 92]\n",
        "\n",
        "# Letter grade scheme\n",
        "def get_letter_grade(score):\n",
        "    if score >= 90:\n",
        "        return 'A'\n",
        "    if score >= 80:\n",
        "        return 'B'\n",
        "    if score >= 70:\n",
        "        return 'C'\n",
        "    if score >= 60:\n",
        "        return 'D'\n",
        "    else:\n",
        "        return 'F'\n",
        "\n",
        "\n",
        "scholarship_active = True\n",
        "\n",
        "\n",
        "for grade in grades:\n",
        "    letter_grade = get_letter_grade(grade)\n",
        "    print(f\"Score: {grade}, Letter Grade: {letter_grade}\")\n",
        "\n",
        "    # Check if the letter grade is 'F'\n",
        "    if letter_grade == 'F':\n",
        "        scholarship_active = False\n",
        "        print(\"Scholarship is stopped\")\n",
        "        break  # Exit the loop\n",
        "\n",
        "# Print final scholarship status\n",
        "if scholarship_active:\n",
        "    print(\"Scholarship is still active\")\n"
      ],
      "metadata": {
        "colab": {
          "base_uri": "https://localhost:8080/"
        },
        "id": "ECgFhEWhW30W",
        "outputId": "86de0cfa-411f-476b-caed-9c78ecb5e822"
      },
      "execution_count": null,
      "outputs": [
        {
          "output_type": "stream",
          "name": "stdout",
          "text": [
            "Score: 93, Letter Grade: A\n",
            "Score: 95, Letter Grade: A\n",
            "Score: 84, Letter Grade: B\n",
            "Score: 100, Letter Grade: A\n",
            "Score: 65, Letter Grade: D\n",
            "Score: 53, Letter Grade: F\n",
            "Scholarship is stopped\n"
          ]
        }
      ]
    }
  ]
}